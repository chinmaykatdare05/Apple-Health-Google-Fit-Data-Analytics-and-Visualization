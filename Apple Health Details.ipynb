{
  "nbformat": 4,
  "nbformat_minor": 0,
  "metadata": {
    "colab": {
      "provenance": [],
      "authorship_tag": "ABX9TyN0j9C6f/IYFlpds9q8IozI",
      "include_colab_link": true
    },
    "kernelspec": {
      "name": "python3",
      "display_name": "Python 3"
    },
    "language_info": {
      "name": "python"
    }
  },
  "cells": [
    {
      "cell_type": "markdown",
      "metadata": {
        "id": "view-in-github",
        "colab_type": "text"
      },
      "source": [
        "<a href=\"https://colab.research.google.com/github/chinmaykatdare05/Apple-Health-Analytics/blob/main/Apple%20Health%20Details.ipynb\" target=\"_parent\"><img src=\"https://colab.research.google.com/assets/colab-badge.svg\" alt=\"Open In Colab\"/></a>"
      ]
    },
    {
      "cell_type": "code",
      "execution_count": 1,
      "metadata": {
        "colab": {
          "base_uri": "https://localhost:8080/"
        },
        "id": "OF3j879wkLGt",
        "outputId": "9b1bdaad-d19b-4727-828b-60b8d5b3625d"
      },
      "outputs": [
        {
          "output_type": "stream",
          "name": "stdout",
          "text": [
            "HKBiologicalSexMale\n",
            "211 activity records\n",
            "0 correlations\n",
            "85118 records\n",
            "0 workouts\n"
          ]
        }
      ],
      "source": [
        "!pip install apple-health --quiet\n",
        "from health import HealthData\n",
        "\n",
        "file_path = \"/content/export.xml\"\n",
        "data = HealthData.read(\n",
        "    file_path,\n",
        "    include_me=True,\n",
        "    include_activity_summaries=True,\n",
        "    include_correlations=True,\n",
        "    include_records=True,\n",
        "    include_workouts=True,\n",
        ")\n",
        "\n",
        "print(data.me.biological_sex)\n",
        "print(f\"{len(data.activity_summaries)} activity records\")\n",
        "print(f\"{len(data.correlations)} correlations\")\n",
        "print(f\"{len(data.records)} records\")\n",
        "print(f\"{len(data.workouts)} workouts\")"
      ]
    },
    {
      "cell_type": "code",
      "source": [
        "data.records[2:7]"
      ],
      "metadata": {
        "colab": {
          "base_uri": "https://localhost:8080/"
        },
        "id": "XOgQNlkAkYjw",
        "outputId": "638df81a-683f-4c02-ba90-dd2f9e12790a"
      },
      "execution_count": 2,
      "outputs": [
        {
          "output_type": "execute_result",
          "data": {
            "text/plain": [
              "[HKQuantityTypeIdentifierStepCount: 14.00 count 2023-03-03 08:49:31+05:30,\n",
              " HKQuantityTypeIdentifierStepCount: 751.00 count 2023-03-03 22:53:13+05:30,\n",
              " HKQuantityTypeIdentifierStepCount: 353.00 count 2023-03-03 23:06:45+05:30,\n",
              " HKQuantityTypeIdentifierStepCount: 561.00 count 2023-03-03 23:29:15+05:30,\n",
              " HKQuantityTypeIdentifierStepCount: 16.00 count 2023-03-03 23:29:16+05:30]"
            ]
          },
          "metadata": {},
          "execution_count": 2
        }
      ]
    }
  ]
}