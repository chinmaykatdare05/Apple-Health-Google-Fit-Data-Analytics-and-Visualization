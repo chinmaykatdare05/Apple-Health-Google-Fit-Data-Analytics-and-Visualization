{
  "nbformat": 4,
  "nbformat_minor": 0,
  "metadata": {
    "colab": {
      "provenance": [],
      "authorship_tag": "ABX9TyPcvpM8GFOa9w81NUKVrECV",
      "include_colab_link": true
    },
    "kernelspec": {
      "name": "python3",
      "display_name": "Python 3"
    },
    "language_info": {
      "name": "python"
    }
  },
  "cells": [
    {
      "cell_type": "markdown",
      "metadata": {
        "id": "view-in-github",
        "colab_type": "text"
      },
      "source": [
        "<a href=\"https://colab.research.google.com/github/chinmaykatdare05/Apple-Health-Analytics/blob/main/Apple%20Health%20Extractor.ipynb\" target=\"_parent\"><img src=\"https://colab.research.google.com/assets/colab-badge.svg\" alt=\"Open In Colab\"/></a>"
      ]
    },
    {
      "cell_type": "code",
      "execution_count": 1,
      "metadata": {
        "colab": {
          "base_uri": "https://localhost:8080/"
        },
        "id": "GuH1XL92Riqk",
        "outputId": "7b2ac26c-0fc8-463e-a497-e3fea5155ae3"
      },
      "outputs": [
        {
          "output_type": "stream",
          "name": "stdout",
          "text": [
            "15 Record Types\n",
            "['HKQuantityTypeIdentifierWalkingAsymmetryPercentage', 'HKQuantityTypeIdentifierWalkingSpeed', 'HKQuantityTypeIdentifierBasalEnergyBurned', 'HKQuantityTypeIdentifierFlightsClimbed', 'HKQuantityTypeIdentifierHeadphoneAudioExposure', 'HKQuantityTypeIdentifierWalkingDoubleSupportPercentage', 'HKQuantityTypeIdentifierWalkingStepLength', 'HKDataTypeSleepDurationGoal', 'HKQuantityTypeIdentifierBodyMass', 'HKQuantityTypeIdentifierAppleWalkingSteadiness', 'HKQuantityTypeIdentifierDistanceWalkingRunning', 'HKCategoryTypeIdentifierSleepAnalysis', 'HKQuantityTypeIdentifierStepCount', 'HKQuantityTypeIdentifierActiveEnergyBurned', 'HKQuantityTypeIdentifierHeight']\n"
          ]
        }
      ],
      "source": [
        "# !pip install apple-health-extractor --quiet\n",
        "from extractor import Extractor\n",
        "\n",
        "# Initialize the extractor with the path to the XML file\n",
        "extractor = Extractor(\"/content/export.xml\")\n",
        "\n",
        "# Get the types of records available in the health data\n",
        "record_types = extractor.get_record_types()\n",
        "print(len(record_types), 'Record Types')\n",
        "print(record_types)\n",
        "\n",
        "# Get records of a specific type\n",
        "# specific_records = extractor.get_records(\"HKQuantityTypeIdentifierStepCount\")[0]\n",
        "# print(specific_records)\n",
        "\n",
        "# Get the health data as JSON\n",
        "# json_data = extractor.get_json()\n",
        "# print(json_data)\n",
        "\n",
        "# Save the health data to a CSV file\n",
        "# extractor.save_to_csv()"
      ]
    }
  ]
}